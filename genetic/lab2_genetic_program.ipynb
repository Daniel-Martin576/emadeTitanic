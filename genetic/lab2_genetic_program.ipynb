{
 "cells": [
  {
   "cell_type": "markdown",
   "metadata": {},
   "source": [
    "# Symbolic Regression"
   ]
  },
  {
   "cell_type": "markdown",
   "metadata": {},
   "source": [
    "## Note: Run all the code cells below in order to ensure everything runs correctly "
   ]
  },
  {
   "cell_type": "markdown",
   "metadata": {},
   "source": [
    "For this lab, we are going to focus on a different kind of evolutionary algorithm than genetic algorithms. This lab will be focused on genetic programming."
   ]
  },
  {
   "cell_type": "markdown",
   "metadata": {},
   "source": [
    "Genetic programming is an evolutionary approach to generating computer programs. GP is the tool we will use for automated algorithm design."
   ]
  },
  {
   "cell_type": "markdown",
   "metadata": {},
   "source": [
    "We will start by importing the libraries we need for GP."
   ]
  },
  {
   "cell_type": "code",
   "execution_count": 1,
   "metadata": {},
   "outputs": [],
   "source": [
    "import random\n",
    "import operator\n",
    "\n",
    "import numpy as np\n",
    "import matplotlib.pyplot as plt\n",
    "\n",
    "from deap import algorithms\n",
    "from deap import base\n",
    "from deap import creator\n",
    "from deap import tools\n",
    "from deap import gp"
   ]
  },
  {
   "cell_type": "markdown",
   "metadata": {},
   "source": [
    "Next, we will create our fitness and individual classes."
   ]
  },
  {
   "cell_type": "code",
   "execution_count": 2,
   "metadata": {},
   "outputs": [],
   "source": [
    "creator.create(\"FitnessMin\", base.Fitness, weights=(-1.0,))\n",
    "creator.create(\"Individual\", gp.PrimitiveTree, fitness=creator.FitnessMin)"
   ]
  },
  {
   "cell_type": "markdown",
   "metadata": {},
   "source": [
    "This time our individual class inherits from DEAP's PrimitiveTree class instead of a list. This is because our individuals will be represented as a tree structure. Trees are the most common data structure used in GP. In GP, trees are made of functions and variables called primitives. Each primitive is a node in the tree where the leaves of a node are the inputs to the parent node. When we evaluate each individual we simply compile the primitive tree from its leaves to its root node."
   ]
  },
  {
   "cell_type": "markdown",
   "metadata": {},
   "source": [
    "The source code for PrimitiveTree and gp.compile can be found here: https://github.com/DEAP/deap/blob/master/deap/gp.py"
   ]
  },
  {
   "cell_type": "markdown",
   "metadata": {},
   "source": [
    "Next, we will initialize a primitive set and add all the primitives our trees can use."
   ]
  },
  {
   "cell_type": "code",
   "execution_count": 3,
   "metadata": {},
   "outputs": [],
   "source": [
    "pset = gp.PrimitiveSet(\"MAIN\", arity=1)\n",
    "pset.addPrimitive(np.add, arity=2)\n",
    "pset.addPrimitive(np.subtract, arity=2)\n",
    "pset.addPrimitive(np.multiply, arity=2)\n",
    "pset.addPrimitive(np.negative, arity=1)\n",
    "pset.renameArguments(ARG0='x')"
   ]
  },
  {
   "cell_type": "markdown",
   "metadata": {},
   "source": [
    "We added several mathematical operators to our primitive set. We also renamed the default first argument name in DEAP to x instead of ARG0. The arity parameter we defined specifies the amount of arguments each primitive takes."
   ]
  },
  {
   "cell_type": "markdown",
   "metadata": {},
   "source": [
    "Add at least two new primitives in the code cell below."
   ]
  },
  {
   "cell_type": "code",
   "execution_count": 4,
   "metadata": {},
   "outputs": [
    {
     "ename": "TypeError",
     "evalue": "addPrimitive() missing 2 required positional arguments: 'primitive' and 'arity'",
     "output_type": "error",
     "traceback": [
      "\u001b[1;31m---------------------------------------------------------------------------\u001b[0m",
      "\u001b[1;31mTypeError\u001b[0m                                 Traceback (most recent call last)",
      "\u001b[1;32m<ipython-input-4-6837466f65e9>\u001b[0m in \u001b[0;36m<module>\u001b[1;34m\u001b[0m\n\u001b[1;32m----> 1\u001b[1;33m \u001b[0mpset\u001b[0m\u001b[1;33m.\u001b[0m\u001b[0maddPrimitive\u001b[0m\u001b[1;33m(\u001b[0m\u001b[1;33m)\u001b[0m\u001b[1;33m\u001b[0m\u001b[1;33m\u001b[0m\u001b[0m\n\u001b[0m\u001b[0;32m      2\u001b[0m \u001b[0mpset\u001b[0m\u001b[1;33m.\u001b[0m\u001b[0maddPrimitive\u001b[0m\u001b[1;33m(\u001b[0m\u001b[1;33m)\u001b[0m\u001b[1;33m\u001b[0m\u001b[1;33m\u001b[0m\u001b[0m\n",
      "\u001b[1;31mTypeError\u001b[0m: addPrimitive() missing 2 required positional arguments: 'primitive' and 'arity'"
     ]
    }
   ],
   "source": [
    "pset.addPrimitive()\n",
    "pset.addPrimitive()"
   ]
  },
  {
   "cell_type": "markdown",
   "metadata": {},
   "source": [
    "Next we will define our toolbox, individual, population, and compiler."
   ]
  },
  {
   "cell_type": "code",
   "execution_count": 5,
   "metadata": {},
   "outputs": [],
   "source": [
    "toolbox = base.Toolbox()\n",
    "toolbox.register(\"expr\", gp.genHalfAndHalf, pset=pset, min_=1, max_=2)\n",
    "toolbox.register(\"individual\", tools.initIterate, creator.Individual, toolbox.expr)\n",
    "toolbox.register(\"population\", tools.initRepeat, list, toolbox.individual)\n",
    "toolbox.register(\"compile\", gp.compile, pset=pset)"
   ]
  },
  {
   "cell_type": "markdown",
   "metadata": {},
   "source": [
    "By now this format should look familar to you. The major difference here is the \"expr\" function we defined. gp.genHaldandHalf returns a primitive tree based on a primitive set and a minimum and maximum tree depth. In this case the primitive set is the one we defined earlier, the minimum depth is 1, and the maxmimum depth is 2. I encourage you to change the minimum and maximum depth and observe the results."
   ]
  },
  {
   "cell_type": "markdown",
   "metadata": {},
   "source": [
    "Next, we will define our evaluation function."
   ]
  },
  {
   "cell_type": "code",
   "execution_count": 6,
   "metadata": {},
   "outputs": [],
   "source": [
    "def evalSymbReg(individual, points, pset):\n",
    "    func = gp.compile(expr=individual, pset=pset)\n",
    "    sqerrors = (func(points)-(points**4 + points**3 + points**2 + points))**2\n",
    "    return (np.sqrt(np.sum(sqerrors) / len(points)),)"
   ]
  },
  {
   "cell_type": "markdown",
   "metadata": {},
   "source": [
    "To evaluate our primitive tree we first compile the tree into a function. Then, we calculate the function and determine the mean squared error between the function we compile and the actual function we are trying to generate. We are optimizing the function we are generating by minimizing mean squared error."
   ]
  },
  {
   "cell_type": "markdown",
   "metadata": {},
   "source": [
    "We are not trying to fit a function to data though. We are trying to generate a specific output. We already know what the ideal function is and our primitive set contains all the primitives used by the ideal function. However, you could think of genetic programming as finding the best combination of primitives given objectives to minimize or maximize. This means we care a lot less about data than machine learning and care more about objectives."
   ]
  },
  {
   "cell_type": "markdown",
   "metadata": {},
   "source": [
    "Next, we will register our genetic operators."
   ]
  },
  {
   "cell_type": "code",
   "execution_count": 7,
   "metadata": {},
   "outputs": [],
   "source": [
    "toolbox.register(\"evaluate\", evalSymbReg, points=np.linspace(-1, 1, 1000), pset=pset)\n",
    "toolbox.register(\"select\", tools.selTournament, tournsize=3)\n",
    "toolbox.register(\"mate\", gp.cxOnePoint)\n",
    "toolbox.register(\"expr_mut\", gp.genFull, min_=0, max_=2)\n",
    "toolbox.register(\"mutate\", gp.mutUniform, expr=toolbox.expr_mut, pset=pset)"
   ]
  },
  {
   "cell_type": "markdown",
   "metadata": {},
   "source": [
    "Add at least one more mutation method in the code cell below and try out this mutation method in the evolutionary loop found further below.\n",
    "\n",
    "You can find more GP mutations in the DEAP source code here: https://github.com/DEAP/deap/blob/master/deap/gp.py"
   ]
  },
  {
   "cell_type": "code",
   "execution_count": 8,
   "metadata": {},
   "outputs": [
    {
     "ename": "TypeError",
     "evalue": "register() missing 2 required positional arguments: 'alias' and 'function'",
     "output_type": "error",
     "traceback": [
      "\u001b[1;31m---------------------------------------------------------------------------\u001b[0m",
      "\u001b[1;31mTypeError\u001b[0m                                 Traceback (most recent call last)",
      "\u001b[1;32m<ipython-input-8-0de31ae0f7bf>\u001b[0m in \u001b[0;36m<module>\u001b[1;34m\u001b[0m\n\u001b[1;32m----> 1\u001b[1;33m \u001b[0mtoolbox\u001b[0m\u001b[1;33m.\u001b[0m\u001b[0mregister\u001b[0m\u001b[1;33m(\u001b[0m\u001b[1;33m)\u001b[0m\u001b[1;33m\u001b[0m\u001b[1;33m\u001b[0m\u001b[0m\n\u001b[0m",
      "\u001b[1;31mTypeError\u001b[0m: register() missing 2 required positional arguments: 'alias' and 'function'"
     ]
    }
   ],
   "source": [
    "toolbox.register()"
   ]
  },
  {
   "cell_type": "markdown",
   "metadata": {},
   "source": [
    "You can optionally add tree height contraints to our mutation and crossover functions."
   ]
  },
  {
   "cell_type": "code",
   "execution_count": 10,
   "metadata": {},
   "outputs": [],
   "source": [
    "toolbox.decorate(\"mate\", gp.staticLimit(key=operator.attrgetter(\"height\"), max_value=17))\n",
    "toolbox.decorate(\"mutate\", gp.staticLimit(key=operator.attrgetter(\"height\"), max_value=17))"
   ]
  },
  {
   "cell_type": "markdown",
   "metadata": {},
   "source": [
    "Next, we will program the main evolutionary algorithm."
   ]
  },
  {
   "cell_type": "code",
   "execution_count": 11,
   "metadata": {},
   "outputs": [
    {
     "name": "stdout",
     "output_type": "stream",
     "text": [
      "-- Generation 0 --\n",
      "  Min 0.4112027678437573\n",
      "  Max 2.225930565212586\n",
      "  Avg 1.0033061125603873\n",
      "  Std 0.285041691563565\n",
      "-- Generation 1 --\n",
      "  Min 0.4112027678437573\n",
      "  Max 2.225930565212586\n",
      "  Avg 0.8846069762929113\n",
      "  Std 0.27201575049825344\n",
      "-- Generation 2 --\n",
      "  Min 0.159284112731791\n",
      "  Max 2.225930565212586\n",
      "  Avg 0.8025425644965207\n",
      "  Std 0.3106444008106467\n",
      "-- Generation 3 --\n",
      "  Min 0.159284112731791\n",
      "  Max 2.225930565212586\n",
      "  Avg 0.7228867777673819\n",
      "  Std 0.3232900005036636\n",
      "-- Generation 4 --\n",
      "  Min 0.159284112731791\n",
      "  Max 2.1134173679263952\n",
      "  Avg 0.6534282890895204\n",
      "  Std 0.34443990666944135\n",
      "-- Generation 5 --\n",
      "  Min 0.159284112731791\n",
      "  Max 2.149016196642197\n",
      "  Avg 0.5737916574481846\n",
      "  Std 0.32733896800811424\n",
      "-- Generation 6 --\n",
      "  Min 8.620776339403237e-17\n",
      "  Max 2.225930565212586\n",
      "  Avg 0.5193060519412493\n",
      "  Std 0.3234835840222894\n",
      "-- Generation 7 --\n",
      "  Min 8.620776339403237e-17\n",
      "  Max 1.7657884004983495\n",
      "  Avg 0.5098925526610214\n",
      "  Std 0.3233123884592145\n",
      "-- Generation 8 --\n",
      "  Min 8.620776339403237e-17\n",
      "  Max 1.9592318511581666\n",
      "  Avg 0.460097010301641\n",
      "  Std 0.32485764769663505\n",
      "-- Generation 9 --\n",
      "  Min 8.620776339403237e-17\n",
      "  Max 2.7738735050143437\n",
      "  Avg 0.41942127807963064\n",
      "  Std 0.35472117921345103\n",
      "-- Generation 10 --\n",
      "  Min 8.620776339403237e-17\n",
      "  Max 2.149016196642197\n",
      "  Avg 0.4016928212973546\n",
      "  Std 0.36078634568505025\n",
      "-- Generation 11 --\n",
      "  Min 8.620776339403237e-17\n",
      "  Max 1.9175255158078206\n",
      "  Avg 0.36620870210666795\n",
      "  Std 0.36510392479743736\n",
      "-- Generation 12 --\n",
      "  Min 8.620776339403237e-17\n",
      "  Max 2.149016196642197\n",
      "  Avg 0.30666157162619856\n",
      "  Std 0.33161748823518206\n",
      "-- Generation 13 --\n",
      "  Min 8.620776339403237e-17\n",
      "  Max 1.6979873012312805\n",
      "  Avg 0.298592879143312\n",
      "  Std 0.3305934224380271\n",
      "-- Generation 14 --\n",
      "  Min 8.620776339403237e-17\n",
      "  Max 2.3547424513121338\n",
      "  Avg 0.25033126205154743\n",
      "  Std 0.346170864081951\n",
      "-- Generation 15 --\n",
      "  Min 8.620776339403237e-17\n",
      "  Max 1.9479324675136214\n",
      "  Avg 0.2601031480096203\n",
      "  Std 0.3900155926575787\n",
      "-- Generation 16 --\n",
      "  Min 8.620776339403237e-17\n",
      "  Max 1.5206274153393147\n",
      "  Avg 0.3063488617888638\n",
      "  Std 0.35602408263380014\n",
      "-- Generation 17 --\n",
      "  Min 8.620776339403237e-17\n",
      "  Max 2.0232432682787693\n",
      "  Avg 0.2612351902076366\n",
      "  Std 0.3309740452338925\n",
      "-- Generation 18 --\n",
      "  Min 8.620776339403237e-17\n",
      "  Max 1.6979873012312805\n",
      "  Avg 0.32305780042484944\n",
      "  Std 0.3576052468905146\n",
      "-- Generation 19 --\n",
      "  Min 8.620776339403237e-17\n",
      "  Max 1.6979873012312805\n",
      "  Avg 0.28678194311596067\n",
      "  Std 0.34043837047454273\n",
      "-- Generation 20 --\n",
      "  Min 8.620776339403237e-17\n",
      "  Max 2.225930565212586\n",
      "  Avg 0.2773261018697793\n",
      "  Std 0.36520193644612325\n",
      "-- Generation 21 --\n",
      "  Min 8.620776339403237e-17\n",
      "  Max 1.9983290412358035\n",
      "  Avg 0.25318547468027564\n",
      "  Std 0.3406393350395559\n",
      "-- Generation 22 --\n",
      "  Min 8.620776339403237e-17\n",
      "  Max 1.3227631735939067\n",
      "  Avg 0.2662034721134421\n",
      "  Std 0.31314687600440855\n",
      "-- Generation 23 --\n",
      "  Min 8.620776339403237e-17\n",
      "  Max 1.7337837252685255\n",
      "  Avg 0.30635953920179837\n",
      "  Std 0.4011085724569072\n",
      "-- Generation 24 --\n",
      "  Min 8.620776339403237e-17\n",
      "  Max 2.1169678474509475\n",
      "  Avg 0.23937500984795548\n",
      "  Std 0.3361700073776806\n",
      "-- Generation 25 --\n",
      "  Min 8.620776339403237e-17\n",
      "  Max 1.3842047309527032\n",
      "  Avg 0.23631741733811315\n",
      "  Std 0.32388927587409444\n",
      "-- Generation 26 --\n",
      "  Min 8.620776339403237e-17\n",
      "  Max 1.5392832043634395\n",
      "  Avg 0.2664619481337012\n",
      "  Std 0.3343921105744976\n",
      "-- Generation 27 --\n",
      "  Min 8.620776339403237e-17\n",
      "  Max 1.6979873012312805\n",
      "  Avg 0.282693419687118\n",
      "  Std 0.3549954531535091\n",
      "-- Generation 28 --\n",
      "  Min 8.620776339403237e-17\n",
      "  Max 1.6979873012312805\n",
      "  Avg 0.2801999611502575\n",
      "  Std 0.34166637840225206\n",
      "-- Generation 29 --\n",
      "  Min 8.620776339403237e-17\n",
      "  Max 1.8320855990900304\n",
      "  Avg 0.27224088429760585\n",
      "  Std 0.3523922582016023\n",
      "-- Generation 30 --\n",
      "  Min 8.620776339403237e-17\n",
      "  Max 1.216370093271679\n",
      "  Avg 0.23208511651961491\n",
      "  Std 0.3158743656559168\n",
      "-- Generation 31 --\n",
      "  Min 8.620776339403237e-17\n",
      "  Max 2.225930565212586\n",
      "  Avg 0.25989352455562525\n",
      "  Std 0.35407732449421997\n",
      "-- Generation 32 --\n",
      "  Min 8.620776339403237e-17\n",
      "  Max 1.5109349078366947\n",
      "  Avg 0.2789307446824972\n",
      "  Std 0.3275751779316994\n",
      "-- Generation 33 --\n",
      "  Min 8.620776339403237e-17\n",
      "  Max 2.8372737129018164\n",
      "  Avg 0.2834858179725989\n",
      "  Std 0.3726876443853331\n",
      "-- Generation 34 --\n",
      "  Min 8.620776339403237e-17\n",
      "  Max 1.8541571975101208\n",
      "  Avg 0.26476916840725934\n",
      "  Std 0.35636268825610595\n",
      "-- Generation 35 --\n",
      "  Min 8.620776339403237e-17\n",
      "  Max 1.6979873012312805\n",
      "  Avg 0.2819124783818201\n",
      "  Std 0.3232238609181356\n",
      "-- Generation 36 --\n",
      "  Min 8.620776339403237e-17\n",
      "  Max 1.6733399933106359\n",
      "  Avg 0.290376400377475\n",
      "  Std 0.34018052276022814\n",
      "-- Generation 37 --\n",
      "  Min 8.620776339403237e-17\n",
      "  Max 2.0194806276568777\n",
      "  Avg 0.27322662299113354\n",
      "  Std 0.328110023885649\n",
      "-- Generation 38 --\n",
      "  Min 8.620776339403237e-17\n",
      "  Max 1.913330089660416\n",
      "  Avg 0.27544778751977655\n",
      "  Std 0.36944583303652634\n",
      "-- Generation 39 --\n",
      "  Min 8.620776339403237e-17\n",
      "  Max 1.5475551573523947\n",
      "  Avg 0.2623544602571886\n",
      "  Std 0.32051773908858194\n",
      "-- End of (successful) evolution --\n",
      "Best individual is add(add(multiply(x, x), multiply(add(multiply(x, multiply(x, x)), multiply(add(add(x, x), negative(x)), x)), x)), x), (8.620776339403237e-17,)\n"
     ]
    }
   ],
   "source": [
    "gen = range(40)\n",
    "avg_list = []\n",
    "max_list = []\n",
    "min_list = []\n",
    "\n",
    "pop = toolbox.population(n=300)\n",
    "\n",
    "# Evaluate the entire population\n",
    "fitnesses = list(map(toolbox.evaluate, pop))\n",
    "for ind, fit in zip(pop, fitnesses):\n",
    "    ind.fitness.values = fit\n",
    "\n",
    "# Begin the evolution\n",
    "for g in gen:\n",
    "    print(\"-- Generation %i --\" % g)\n",
    "\n",
    "    # Select the next generation individuals\n",
    "    offspring = toolbox.select(pop, len(pop))\n",
    "    # Clone the selected individuals\n",
    "    offspring = list(map(toolbox.clone, offspring))\n",
    "\n",
    "    # Apply crossover and mutation on the offspring\n",
    "    for child1, child2 in zip(offspring[::2], offspring[1::2]):\n",
    "        if random.random() < 0.5:\n",
    "            toolbox.mate(child1, child2)\n",
    "            del child1.fitness.values\n",
    "            del child2.fitness.values\n",
    "\n",
    "    for mutant in offspring:\n",
    "        if random.random() < 0.2:\n",
    "            toolbox.mutate(mutant)\n",
    "            del mutant.fitness.values\n",
    "\n",
    "    # Evaluate the individuals with an invalid fitness\n",
    "    invalid_ind = [ind for ind in offspring if not ind.fitness.valid]\n",
    "    fitnesses = map(toolbox.evaluate, invalid_ind)\n",
    "    for ind, fit in zip(invalid_ind, fitnesses):\n",
    "        ind.fitness.values = fit\n",
    "\n",
    "    # Replace population\n",
    "    pop[:] = offspring\n",
    "\n",
    "    # Gather all the fitnesses in one list and print the stats\n",
    "    fits = [ind.fitness.values[0] for ind in pop]\n",
    "\n",
    "    length = len(pop)\n",
    "    mean = sum(fits) / length\n",
    "    sum2 = sum(x*x for x in fits)\n",
    "    std = abs(sum2 / length - mean**2)**0.5\n",
    "    g_max = max(fits)\n",
    "    g_min = min(fits)\n",
    "        \n",
    "    avg_list.append(mean)\n",
    "    max_list.append(g_max)\n",
    "    min_list.append(g_min)\n",
    "\n",
    "    print(\"  Min %s\" % g_min)\n",
    "    print(\"  Max %s\" % g_max)\n",
    "    print(\"  Avg %s\" % mean)\n",
    "    print(\"  Std %s\" % std)\n",
    "\n",
    "print(\"-- End of (successful) evolution --\")\n",
    "\n",
    "best_ind = tools.selBest(pop, 1)[0]\n",
    "print(\"Best individual is %s, %s\" % (best_ind, best_ind.fitness.values))"
   ]
  },
  {
   "cell_type": "markdown",
   "metadata": {},
   "source": [
    "The format above should look familar to you. It's the same evolutionary loop we used in Lab 1."
   ]
  },
  {
   "cell_type": "markdown",
   "metadata": {},
   "source": [
    "The format of the best individual above is different from the list format of our previous problems. The individual is printed out in a tree format being read from left to right. There are ways to visualize the individual tree. However, this lab will not cover how to visualize the individual. I encourage you to look up networkx and graphviz if you are interested."
   ]
  },
  {
   "cell_type": "markdown",
   "metadata": {},
   "source": [
    "Next, we will add graphing."
   ]
  },
  {
   "cell_type": "code",
   "execution_count": 12,
   "metadata": {},
   "outputs": [
    {
     "data": {
      "image/png": "[encoded data removed]",
      "text/plain": [
       "<Figure size 432x288 with 1 Axes>"
      ]
     },
     "metadata": {
      "needs_background": "light"
     },
     "output_type": "display_data"
    }
   ],
   "source": [
    "plt.plot(gen, avg_list, label=\"average\")\n",
    "plt.plot(gen, min_list, label=\"minimum\")\n",
    "plt.plot(gen, max_list, label=\"maximum\")\n",
    "plt.xlabel(\"Generation\")\n",
    "plt.ylabel(\"Fitness\")\n",
    "plt.legend(loc=\"upper right\")\n",
    "plt.show()"
   ]
  },
  {
   "cell_type": "markdown",
   "metadata": {},
   "source": [
    "Experiment with the parameters of the above genetic programming to improve the results."
   ]
  },
  {
   "cell_type": "markdown",
   "metadata": {},
   "source": [
    "# Multi-Objective Genetic Programming"
   ]
  },
  {
   "cell_type": "markdown",
   "metadata": {},
   "source": [
    "### With Symbolic Regression"
   ]
  },
  {
   "cell_type": "markdown",
   "metadata": {},
   "source": [
    "To demonstrate multi-objective optimization, we are going to modify our code above."
   ]
  },
  {
   "cell_type": "markdown",
   "metadata": {},
   "source": [
    "First, we will create new fitness and individual classes for a multiobjective problem."
   ]
  },
  {
   "cell_type": "code",
   "execution_count": 13,
   "metadata": {},
   "outputs": [
    {
     "name": "stderr",
     "output_type": "stream",
     "text": [
      "c:\\python37\\lib\\site-packages\\deap\\creator.py:141: RuntimeWarning: A class named 'FitnessMin' has already been created and it will be overwritten. Consider deleting previous creation of that class or rename it.\n",
      "  RuntimeWarning)\n",
      "c:\\python37\\lib\\site-packages\\deap\\creator.py:141: RuntimeWarning: A class named 'Individual' has already been created and it will be overwritten. Consider deleting previous creation of that class or rename it.\n",
      "  RuntimeWarning)\n"
     ]
    }
   ],
   "source": [
    "creator.create(\"FitnessMin\", base.Fitness, weights=(-1.0,-1.0))\n",
    "creator.create(\"Individual\", gp.PrimitiveTree, fitness=creator.FitnessMin)"
   ]
  },
  {
   "cell_type": "markdown",
   "metadata": {},
   "source": [
    "We will minimize two objectives, mean squared error and the size of our tree."
   ]
  },
  {
   "cell_type": "markdown",
   "metadata": {},
   "source": [
    "Next, we are going to add three new primitives to our primitive set and set a seed for randomization. We will also reinitialize our toolbox to make sure all of our tools work properly."
   ]
  },
  {
   "cell_type": "code",
   "execution_count": 14,
   "metadata": {},
   "outputs": [],
   "source": [
    "random.seed(25)\n",
    "\n",
    "pset = gp.PrimitiveSet(\"MAIN\", arity=1)\n",
    "pset.addPrimitive(np.add, arity=2)\n",
    "pset.addPrimitive(np.subtract, arity=2)\n",
    "pset.addPrimitive(np.multiply, arity=2)\n",
    "pset.addPrimitive(np.negative, arity=1)\n",
    "pset.addPrimitive(np.sin, arity=1)\n",
    "pset.addPrimitive(np.cos, arity=1)\n",
    "pset.addPrimitive(np.tan, arity=1)\n",
    "pset.renameArguments(ARG0='x')\n",
    "\n",
    "toolbox = base.Toolbox()\n",
    "toolbox.register(\"expr\", gp.genHalfAndHalf, pset=pset, min_=1, max_=2)\n",
    "toolbox.register(\"individual\", tools.initIterate, creator.Individual, toolbox.expr)\n",
    "toolbox.register(\"population\", tools.initRepeat, list, toolbox.individual)\n",
    "toolbox.register(\"compile\", gp.compile, pset=pset)"
   ]
  },
  {
   "cell_type": "markdown",
   "metadata": {},
   "source": [
    "We reinitialized our primitive set and set a seed for randomization to ensure everyone produces the same results. The three primitives we added will be used in our updated evaluation function in the next step."
   ]
  },
  {
   "cell_type": "markdown",
   "metadata": {},
   "source": [
    "Next, we will add another objective to our evaluation function and change the problem into a more difficult one. We will also reinitialize the rest of our toolbox functions. "
   ]
  },
  {
   "cell_type": "code",
   "execution_count": 15,
   "metadata": {},
   "outputs": [],
   "source": [
    "def evalSymbReg(individual, points, pset):\n",
    "    func = gp.compile(expr=individual, pset=pset)\n",
    "    sqerrors = (func(points)-(np.negative(points) + np.sin(points**2) + np.tan(points**3) - np.cos(points)))**2\n",
    "\n",
    "    return (np.sqrt(np.sum(sqerrors) / len(points)), len(individual))\n",
    "\n",
    "\n",
    "toolbox.register(\"evaluate\", evalSymbReg, points=np.linspace(-1, 1, 1000), pset=pset)\n",
    "toolbox.register(\"select\", tools.selTournament, tournsize=3)\n",
    "toolbox.register(\"mate\", gp.cxOnePoint)\n",
    "toolbox.register(\"expr_mut\", gp.genFull, min_=0, max_=2)\n",
    "toolbox.register(\"mutate\", gp.mutUniform, expr=toolbox.expr_mut, pset=pset)\n",
    "\n",
    "toolbox.decorate(\"mate\", gp.staticLimit(key=operator.attrgetter(\"height\"), max_value=17))\n",
    "toolbox.decorate(\"mutate\", gp.staticLimit(key=operator.attrgetter(\"height\"), max_value=17))"
   ]
  },
  {
   "cell_type": "markdown",
   "metadata": {},
   "source": [
    "Our symbolic regression problem has been replaced with a much harder equation to solve. This is designed to show more evolution over time than the previous problem. This problem will not be solved within 100 iterations. We also return the length of the individual tree, which returns the amount of nodes in that individual tree. We will make changes to our evolutionary process to optimize both objectives."
   ]
  },
  {
   "cell_type": "markdown",
   "metadata": {},
   "source": [
    "However, in this example we will first create a visualization of our objective space to help illustrate the pareto dominance we will use later on."
   ]
  },
  {
   "cell_type": "markdown",
   "metadata": {},
   "source": [
    "Next, we will define our pareto dominance function. We will use this function when we visualize our objective space."
   ]
  },
  {
   "cell_type": "code",
   "execution_count": 16,
   "metadata": {},
   "outputs": [],
   "source": [
    "def pareto_dominance(ind1, ind2):\n",
    "    not_equal = False\n",
    "    for value_1, value_2 in zip(ind1.fitness.values, ind2.fitness.values):\n",
    "        if value_1 > value_2:\n",
    "            return False\n",
    "        elif value_1 < value_2:\n",
    "            not_equal = True\n",
    "    return not_equal"
   ]
  },
  {
   "cell_type": "markdown",
   "metadata": {},
   "source": [
    "Our pareto dominance function returns true if the first individual dominates the second individual."
   ]
  },
  {
   "cell_type": "markdown",
   "metadata": {},
   "source": [
    "Next, we will initialize a random population of 300 individuals and initialize one separate individual for comparison."
   ]
  },
  {
   "cell_type": "code",
   "execution_count": 17,
   "metadata": {},
   "outputs": [],
   "source": [
    "pop = toolbox.population(n=300)\n",
    "\n",
    "fitnesses = list(map(toolbox.evaluate, pop))\n",
    "for ind, fit in zip(pop, fitnesses):\n",
    "    ind.fitness.values = fit\n",
    "\n",
    "a_given_individual = toolbox.population(n=1)[0]\n",
    "a_given_individual.fitness.values = toolbox.evaluate(a_given_individual)"
   ]
  },
  {
   "cell_type": "markdown",
   "metadata": {},
   "source": [
    "Next, we will sort our population by pareto dominance in comparison to the separate individual we defined."
   ]
  },
  {
   "cell_type": "code",
   "execution_count": 18,
   "metadata": {},
   "outputs": [],
   "source": [
    "dominated = [ind for ind in pop if pareto_dominance(a_given_individual, ind)]\n",
    "dominators = [ind for ind in pop if pareto_dominance(ind, a_given_individual)]\n",
    "others = [ind for ind in pop if not ind in dominated and not ind in dominators]"
   ]
  },
  {
   "cell_type": "markdown",
   "metadata": {},
   "source": [
    "Next, we will plot our objective space using our sorted population."
   ]
  },
  {
   "cell_type": "code",
   "execution_count": 19,
   "metadata": {},
   "outputs": [
    {
     "data": {
      "image/png": "[encoded data removed]",
      "text/plain": [
       "<Figure size 432x288 with 1 Axes>"
      ]
     },
     "metadata": {
      "needs_background": "light"
     },
     "output_type": "display_data"
    }
   ],
   "source": [
    "for ind in dominators: plt.plot(ind.fitness.values[0], ind.fitness.values[1], 'r.', alpha=0.7)\n",
    "for ind in dominated: plt.plot(ind.fitness.values[0], ind.fitness.values[1], 'g.', alpha=0.7)\n",
    "for ind in others: plt.plot(ind.fitness.values[0], ind.fitness.values[1], 'k.', alpha=0.7, ms=3)\n",
    "plt.plot(a_given_individual.fitness.values[0], a_given_individual.fitness.values[1], 'bo', ms=6);\n",
    "plt.xlabel('Mean Squared Error');plt.ylabel('Tree Size');\n",
    "plt.title('Objective space');\n",
    "plt.tight_layout()\n",
    "plt.show()"
   ]
  },
  {
   "cell_type": "markdown",
   "metadata": {},
   "source": [
    "The blue point is the given individual we set aside and compared all the other individuals to. The black points are uncomparable, the green points are dominated by the given individual, and the red points dominate the given individual."
   ]
  },
  {
   "cell_type": "markdown",
   "metadata": {},
   "source": [
    "We can see in this visualization how the individuals dominating our pareto front are closer to the bottom right because they have the lowest MSE and tree size. Our goal is to minimize both objectives and have an individual as close to the bottom right as possible."
   ]
  },
  {
   "cell_type": "markdown",
   "metadata": {},
   "source": [
    "A more in-depth look at DEAP, pareto fronts, and pareto dominance can be found here: https://github.com/lmarti/evolutionary-computation-course/blob/master/AEC.06%20-%20Evolutionary%20Multi-Objective%20Optimization.ipynb"
   ]
  },
  {
   "cell_type": "markdown",
   "metadata": {},
   "source": [
    "Next, we will define and run the main evolutionary algorithm."
   ]
  },
  {
   "cell_type": "code",
   "execution_count": 20,
   "metadata": {},
   "outputs": [
    {
     "name": "stdout",
     "output_type": "stream",
     "text": [
      "gen\tnevals\tavg                    \tstd                    \tmin                    \tmax                    \n",
      "0  \t50    \t[1.10650195 3.26      ]\t[0.30401178 1.45340978]\t[0.72012608 2.        ]\t[1.55251825 7.        ]\n",
      "1  \t66    \t[0.84741287 3.94      ]\t[0.20331581 1.62984662]\t[0.62937003 1.        ]\t[1.49062507 7.        ]\n",
      "2  \t74    \t[0.73152614 4.26      ]\t[0.03894396 1.43958327]\t[0.62937003 2.        ]\t[0.82078751 7.        ]\n",
      "3  \t65    \t[0.70577647 4.54      ]\t[0.06045703 1.68772036]\t[0.49416153 2.        ]\t[0.82078751 7.        ]\n",
      "4  \t66    \t[0.688637 4.38    ]    \t[0.06643464 1.58606431]\t[0.49416153 3.        ]\t[0.72234418 7.        ]\n",
      "5  \t67    \t[0.66372842 4.72      ]\t[0.07364579 1.51049661]\t[0.49416153 2.        ]\t[0.82078751 7.        ]\n",
      "6  \t71    \t[0.60540029 5.        ]\t[0.08975108 1.42828569]\t[0.38911481 3.        ]\t[0.72234418 8.        ]\n",
      "7  \t66    \t[0.51068731 5.06      ]\t[0.07762804 2.12988263]\t[0.37082423 3.        ]\t[0.72012608 9.        ]\n",
      "8  \t67    \t[0.49007428 5.2       ]\t[0.06396885 2.27156334]\t[0.37082423 3.        ]\t[0.62937003 9.        ]\n",
      "9  \t66    \t[0.45996403 5.68      ]\t[0.089835   2.31896529]\t[0.28500933 3.        ]\t[ 0.88303068 10.        ]\n",
      "10 \t68    \t[0.41805066 5.12      ]\t[0.04713907 2.09418242]\t[0.38082734 3.        ]\t[ 0.49416153 11.        ]\n",
      "11 \t76    \t[0.41019659 5.28      ]\t[0.04599001 2.33272373]\t[0.37082423 3.        ]\t[ 0.52336618 12.        ]\n",
      "12 \t73    \t[0.39557895 5.58      ]\t[0.03916455 2.65397815]\t[0.28500933 3.        ]\t[ 0.49416153 12.        ]\n",
      "13 \t70    \t[0.38081995 7.        ]\t[0.06522358 3.1685959 ]\t[0.28500933 4.        ]\t[ 0.72234418 12.        ]\n",
      "14 \t63    \t[0.35968801 8.08      ]\t[0.04175515 3.16126557]\t[0.28254751 4.        ]\t[ 0.46040496 12.        ]\n",
      "15 \t68    \t[0.35372985 8.96      ]\t[0.04529422 3.12384379]\t[0.28254751 4.        ]\t[ 0.46433071 14.        ]\n",
      "16 \t68    \t[0.33140449 8.94      ]\t[0.05032003 2.92854913]\t[0.28254751 3.        ]\t[ 0.49416153 13.        ]\n",
      "17 \t69    \t[0.30811494 8.86      ]\t[0.05147619 3.00672579]\t[0.28254751 5.        ]\t[ 0.55173768 14.        ]\n",
      "18 \t72    \t[0.29482741 8.44      ]\t[0.01565157 3.00106648]\t[0.28254751 5.        ]\t[ 0.34470821 15.        ]\n",
      "19 \t71    \t[0.29277404 7.92      ]\t[0.01946663 3.46317773]\t[0.28233256 5.        ]\t[ 0.38012098 23.        ]\n",
      "20 \t66    \t[0.29211229 6.9       ]\t[0.03989594 2.85131549]\t[0.2807281 5.       ]  \t[ 0.54546414 23.        ]\n",
      "21 \t66    \t[0.28243405 6.32      ]\t[4.32047236e-04 1.19063009e+00]\t[0.2807281 6.       ]  \t[ 0.28254751 11.        ]\n",
      "22 \t75    \t[0.29107372 6.58      ]\t[0.04148433 1.76737093]        \t[0.2807281 3.       ]  \t[ 0.49416153 12.        ]\n",
      "23 \t75    \t[0.29513896 7.08      ]\t[0.05030886 2.20762316]        \t[0.2807281 3.       ]  \t[ 0.49416153 12.        ]\n",
      "24 \t61    \t[0.29331163 7.66      ]\t[0.07540218 2.41337937]        \t[0.2807281 2.       ]  \t[ 0.82078751 11.        ]\n",
      "25 \t60    \t[0.28381001 9.22      ]\t[0.01465696 2.41900806]        \t[0.2807281 4.       ]  \t[ 0.38510258 11.        ]\n",
      "26 \t65    \t[ 0.28109668 10.46      ]\t[1.22208188e-03 1.53896069e+00]\t[0.2807281 6.       ]  \t[ 0.2886702 12.       ]  \n",
      "27 \t68    \t[ 0.28704456 10.96      ]\t[0.0310718  2.05873748]        \t[0.2807281 3.       ]  \t[ 0.49416153 20.        ]\n",
      "28 \t72    \t[ 0.28545907 11.62      ]\t[0.01526707 1.97878751]        \t[ 0.2807281 11.       ]\t[ 0.35627279 20.        ]\n",
      "29 \t69    \t[ 0.28619982 11.26      ]\t[0.01674813 1.29321305]        \t[ 0.2807281 10.       ]\t[ 0.36248211 20.        ]\n",
      "30 \t71    \t[ 0.28105791 11.02      ]\t[0.00125552 0.24413111]        \t[ 0.2807281 10.       ]\t[ 0.2880465 12.       ]  \n",
      "31 \t73    \t[ 0.28621081 11.36      ]\t[0.03165863 1.67044904]        \t[ 0.2807281 11.       ]\t[ 0.5024373 20.       ]  \n",
      "32 \t69    \t[ 0.2807281 11.       ]  \t[1.66533454e-16 0.00000000e+00]\t[ 0.2807281 11.       ]\t[ 0.2807281 11.       ]  \n",
      "33 \t79    \t[ 0.28685299 11.36      ]\t[0.01829874 1.58442419]        \t[ 0.2807281 10.       ]\t[ 0.36248211 19.        ]\n",
      "34 \t63    \t[ 0.28352624 11.02      ]\t[0.01324674 0.24413111]        \t[ 0.2807281 10.       ]\t[ 0.36248211 12.        ]\n",
      "35 \t68    \t[ 0.28650699 11.04      ]\t[0.03984513 0.44542115]        \t[ 0.2807281 10.       ]\t[ 0.56539136 14.        ]\n",
      "36 \t69    \t[ 0.28656521 10.86      ]\t[0.04025262 0.84876381]        \t[0.2807281 5.       ]  \t[ 0.5683023 11.       ]  \n",
      "37 \t75    \t[ 0.28901931 11.22      ]\t[0.03951904 1.33101465]        \t[0.2807281 9.       ]  \t[ 0.55173768 20.        ]\n",
      "38 \t60    \t[ 0.28162213 11.1       ]\t[0.00363054 0.36055513]        \t[ 0.2807281 11.       ]\t[ 0.30347055 13.        ]\n",
      "39 \t72    \t[ 0.28390401 11.12      ]\t[0.02110688 0.71105555]        \t[ 0.2807281 11.       ]\t[ 0.43143969 16.        ]\n",
      "40 \t67    \t[ 0.28097257 11.        ]\t[0.00125234 0.2       ]        \t[ 0.2807281 10.       ]\t[ 0.2886702 12.       ]  \n",
      "41 \t75    \t[ 0.28621654 11.1       ]\t[0.02704569 1.48660687]        \t[0.2807281 6.       ]  \t[ 0.46040496 20.        ]\n",
      "42 \t79    \t[ 0.28280459 11.02      ]\t[0.01147571 0.4237924 ]        \t[ 0.2807281 10.       ]\t[ 0.36248211 13.        ]\n",
      "43 \t69    \t[ 0.28288461 11.08      ]\t[0.01147696 0.59464275]        \t[ 0.28058792 10.        ]\t[ 0.36248211 13.        ]\n",
      "44 \t74    \t[ 0.28583459 11.48      ]\t[0.03501935 1.29984614]        \t[ 0.28050169 11.        ]\t[ 0.53094695 18.        ]\n",
      "45 \t75    \t[ 0.28872748 11.64      ]\t[0.03306022 1.58442419]        \t[0.28050169 6.        ]  \t[ 0.46040496 15.        ]\n",
      "46 \t69    \t[ 0.28570475 11.94      ]\t[0.03025439 2.33589383]        \t[0.28050169 3.        ]  \t[ 0.49416153 20.        ]\n",
      "47 \t75    \t[ 0.28910976 12.36      ]\t[0.04041411 2.3217235 ]        \t[0.28050169 3.        ]  \t[ 0.49416153 16.        ]\n",
      "48 \t82    \t[ 0.29373923 13.18      ]\t[0.04488693 2.11366979]        \t[0.27861333 8.        ]  \t[ 0.49817743 15.        ]\n",
      "49 \t70    \t[ 0.28332572 14.2       ]\t[0.01730375 1.73205081]        \t[ 0.27861333 11.        ]\t[ 0.40364443 17.        ]\n",
      "50 \t66    \t[ 0.28037786 15.3       ]\t[1.21684778e-03 1.31529464e+00]\t[ 0.27861333 10.        ]\t[ 0.28500933 19.        ]\n"
     ]
    }
   ],
   "source": [
    "NGEN = 50\n",
    "MU = 50\n",
    "LAMBDA = 100\n",
    "CXPB = 0.5\n",
    "MUTPB = 0.2\n",
    "\n",
    "pop = toolbox.population(n=MU)\n",
    "hof = tools.ParetoFront()\n",
    "stats = tools.Statistics(lambda ind: ind.fitness.values)\n",
    "stats.register(\"avg\", np.mean, axis=0)\n",
    "stats.register(\"std\", np.std, axis=0)\n",
    "stats.register(\"min\", np.min, axis=0)\n",
    "stats.register(\"max\", np.max, axis=0)\n",
    "\n",
    "pop, logbook = algorithms.eaMuPlusLambda(pop, toolbox, MU, LAMBDA, CXPB, MUTPB, NGEN, stats,\n",
    "                          halloffame=hof)"
   ]
  },
  {
   "cell_type": "markdown",
   "metadata": {},
   "source": [
    "Now, we will plot the results of our run and display the best individual."
   ]
  },
  {
   "cell_type": "code",
   "execution_count": 21,
   "metadata": {},
   "outputs": [
    {
     "name": "stdout",
     "output_type": "stream",
     "text": [
      "Best individual is: negative(cos(multiply(add(cos(sin(cos(sin(cos(tan(x)))))), cos(x)), tan(x))))\n",
      "with fitness: (0.2786133308027132, 15.0)\n"
     ]
    },
    {
     "data": {
      "image/png": "[encoded data removed]",
      "text/plain": [
       "<Figure size 432x288 with 1 Axes>"
      ]
     },
     "metadata": {
      "needs_background": "light"
     },
     "output_type": "display_data"
    }
   ],
   "source": [
    "print(\"Best individual is: %s\\nwith fitness: %s\" % (hof[0], hof[0].fitness))\n",
    "gen, avg, min_, max_ = logbook.select(\"gen\", \"avg\", \"min\", \"max\")\n",
    "plt.plot(gen, avg, label=\"average\")\n",
    "plt.plot(gen, min_, label=\"minimum\")\n",
    "plt.xlabel(\"Generation\")\n",
    "plt.ylabel(\"Fitness\")\n",
    "plt.legend(loc=\"upper left\")\n",
    "plt.show()"
   ]
  },
  {
   "cell_type": "markdown",
   "metadata": {},
   "source": [
    "In the graph above, the orange and red plots represent tree size and the blue and green plots represent MSE."
   ]
  },
  {
   "cell_type": "markdown",
   "metadata": {},
   "source": [
    "This time we made use of DEAP's efficient implementations of pareto dominance and evolutionary algorithms. We used DEAP's Mu plus Lambda evolutionary algorithm. This adds two new parameters than the evolutionary loop we are used to, mu and lambda. Mu is the number of individuals to select for the next generation. Lambda is the number of children to produce at each generation."
   ]
  },
  {
   "cell_type": "markdown",
   "metadata": {},
   "source": [
    "In the plot above, we can see two trends. The size of our primitive trees raises over time, and our mean squared error quickly drops to between 0 and 1 within the first few generations."
   ]
  },
  {
   "cell_type": "markdown",
   "metadata": {},
   "source": [
    "However, that plot does not accurately represent how well our population is doing on both objectives. We can use a visualization of our objective space to show our pareto front and accurately represent how well our population is doing on both objectives."
   ]
  },
  {
   "cell_type": "markdown",
   "metadata": {},
   "source": [
    "Next, we will visualize our objective space and pareto front."
   ]
  },
  {
   "cell_type": "code",
   "execution_count": 22,
   "metadata": {},
   "outputs": [
    {
     "data": {
      "image/png": "[encoded data removed]",
      "text/plain": [
       "<Figure size 432x288 with 1 Axes>"
      ]
     },
     "metadata": {
      "needs_background": "light"
     },
     "output_type": "display_data"
    },
    {
     "name": "stdout",
     "output_type": "stream",
     "text": [
      "Area Under Curve: 2.3841416372199005\n"
     ]
    }
   ],
   "source": [
    "\"\"\"Split fitness values into separate lists\"\"\"\n",
    "fitness_1 = [ind.fitness.values[0] for ind in hof]\n",
    "fitness_2 = [ind.fitness.values[1] for ind in hof]\n",
    "pop_1 = [ind.fitness.values[0] for ind in pop]\n",
    "pop_2 = [ind.fitness.values[1] for ind in pop]\n",
    "\n",
    "'''Print dominated population for debugging'''\n",
    "# for ind in pop:\n",
    "#     print(ind.fitness)\n",
    "\n",
    "plt.scatter(pop_1, pop_2, color='b')\n",
    "plt.scatter(fitness_1, fitness_2, color='r')\n",
    "plt.plot(fitness_1, fitness_2, color='r', drawstyle='steps-post')\n",
    "plt.xlabel(\"Mean Squared Error\")\n",
    "plt.ylabel(\"Tree Size\")\n",
    "plt.title(\"Pareto Front\")\n",
    "plt.show()\n",
    "\n",
    "f1 = np.array(fitness_1)\n",
    "f2 = np.array(fitness_2)\n",
    "\n",
    "\"\"\"Calculate area under curve with least squares method\"\"\"\n",
    "print(\"Area Under Curve: %s\" % (np.sum(np.abs(np.diff(f1))*f2[:-1])))"
   ]
  },
  {
   "cell_type": "markdown",
   "metadata": {},
   "source": [
    "DEAP's pareto front hall of fame gives us a list of the nondominated individuals after our evolution. We use that list and the last population to visualize our pareto front."
   ]
  },
  {
   "cell_type": "markdown",
   "metadata": {},
   "source": [
    "To measure the performance of our pareto front we use the area under the curve of the pareto front seen in the visualization. The lower our AUC is, the better our pareto front is."
   ]
  },
  {
   "cell_type": "markdown",
   "metadata": {},
   "source": [
    "Implement a version of the genetic programming problem above which produces at least a 25% decrease in the AUC."
   ]
  },
  {
   "cell_type": "code",
   "execution_count": null,
   "metadata": {},
   "outputs": [],
   "source": []
  },
  {
   "cell_type": "markdown",
   "metadata": {},
   "source": [
    "# Strongly Typed Genetic Programming"
   ]
  },
  {
   "cell_type": "markdown",
   "metadata": {},
   "source": [
    "## Note: You are not required to run the code in this section"
   ]
  },
  {
   "cell_type": "markdown",
   "metadata": {},
   "source": [
    "In this section we will highlight more features of DEAP and genetic programming."
   ]
  },
  {
   "cell_type": "markdown",
   "metadata": {},
   "source": [
    "Documentation: http://deap.readthedocs.io/en/master/tutorials/advanced/gp.html"
   ]
  },
  {
   "cell_type": "code",
   "execution_count": 23,
   "metadata": {},
   "outputs": [
    {
     "ename": "NameError",
     "evalue": "name 'PrimitiveSetTyped' is not defined",
     "output_type": "error",
     "traceback": [
      "\u001b[1;31m---------------------------------------------------------------------------\u001b[0m",
      "\u001b[1;31mNameError\u001b[0m                                 Traceback (most recent call last)",
      "\u001b[1;32m<ipython-input-23-a5eae54a66f1>\u001b[0m in \u001b[0;36m<module>\u001b[1;34m\u001b[0m\n\u001b[0;32m      2\u001b[0m     \u001b[1;32mreturn\u001b[0m \u001b[0moutput1\u001b[0m \u001b[1;32mif\u001b[0m \u001b[0minput\u001b[0m \u001b[1;32melse\u001b[0m \u001b[0moutput2\u001b[0m\u001b[1;33m\u001b[0m\u001b[1;33m\u001b[0m\u001b[0m\n\u001b[0;32m      3\u001b[0m \u001b[1;33m\u001b[0m\u001b[0m\n\u001b[1;32m----> 4\u001b[1;33m \u001b[0mpset\u001b[0m \u001b[1;33m=\u001b[0m \u001b[0mPrimitiveSetTyped\u001b[0m\u001b[1;33m(\u001b[0m\u001b[1;34m\"main\"\u001b[0m\u001b[1;33m,\u001b[0m \u001b[1;33m[\u001b[0m\u001b[0mbool\u001b[0m\u001b[1;33m,\u001b[0m \u001b[0mfloat\u001b[0m\u001b[1;33m]\u001b[0m\u001b[1;33m,\u001b[0m \u001b[0mfloat\u001b[0m\u001b[1;33m)\u001b[0m\u001b[1;33m\u001b[0m\u001b[1;33m\u001b[0m\u001b[0m\n\u001b[0m\u001b[0;32m      5\u001b[0m \u001b[0mpset\u001b[0m\u001b[1;33m.\u001b[0m\u001b[0maddPrimitive\u001b[0m\u001b[1;33m(\u001b[0m\u001b[0moperator\u001b[0m\u001b[1;33m.\u001b[0m\u001b[0mxor\u001b[0m\u001b[1;33m,\u001b[0m \u001b[1;33m[\u001b[0m\u001b[0mbool\u001b[0m\u001b[1;33m,\u001b[0m \u001b[0mbool\u001b[0m\u001b[1;33m]\u001b[0m\u001b[1;33m,\u001b[0m \u001b[0mbool\u001b[0m\u001b[1;33m)\u001b[0m\u001b[1;33m\u001b[0m\u001b[1;33m\u001b[0m\u001b[0m\n\u001b[0;32m      6\u001b[0m \u001b[0mpset\u001b[0m\u001b[1;33m.\u001b[0m\u001b[0maddPrimitive\u001b[0m\u001b[1;33m(\u001b[0m\u001b[0moperator\u001b[0m\u001b[1;33m.\u001b[0m\u001b[0mmul\u001b[0m\u001b[1;33m,\u001b[0m \u001b[1;33m[\u001b[0m\u001b[0mfloat\u001b[0m\u001b[1;33m,\u001b[0m \u001b[0mfloat\u001b[0m\u001b[1;33m]\u001b[0m\u001b[1;33m,\u001b[0m \u001b[0mfloat\u001b[0m\u001b[1;33m)\u001b[0m\u001b[1;33m\u001b[0m\u001b[1;33m\u001b[0m\u001b[0m\n",
      "\u001b[1;31mNameError\u001b[0m: name 'PrimitiveSetTyped' is not defined"
     ]
    }
   ],
   "source": [
    "def if_then_else(input, output1, output2):\n",
    "    return output1 if input else output2\n",
    "\n",
    "pset = PrimitiveSetTyped(\"main\", [bool, float], float)\n",
    "pset.addPrimitive(operator.xor, [bool, bool], bool)\n",
    "pset.addPrimitive(operator.mul, [float, float], float)\n",
    "pset.addPrimitive(if_then_else, [bool, float, float], float)\n",
    "pset.addTerminal(3.0, float)\n",
    "pset.addTerminal(1, bool)\n",
    "\n",
    "pset.renameArguments(ARG0=\"x\")\n",
    "pset.renameArguments(ARG1=\"y\")"
   ]
  },
  {
   "cell_type": "markdown",
   "metadata": {},
   "source": [
    "In the code above, we defined strongly typed primitives and terminals. Terminals are pre-defined constants for our individuals."
   ]
  },
  {
   "cell_type": "markdown",
   "metadata": {},
   "source": [
    "First, we defined our strongly typed primitive set with the PrimitiveSetTyped() method. The first argument defines the name of the primitive set. The second argument defines the input (leaf) nodes of each individual tree, and the third argument defines the output of each individual tree. In this case our leaf nodes consist of Booleans and floats put together."
   ]
  },
  {
   "cell_type": "markdown",
   "metadata": {},
   "source": [
    "Adding primitives follows the same structure of defining inputs and then outputs. For terminals, we define the value of the terminal and then its type."
   ]
  },
  {
   "cell_type": "markdown",
   "metadata": {},
   "source": [
    "<img src=\"files/images/trees.png\">"
   ]
  },
  {
   "cell_type": "markdown",
   "metadata": {},
   "source": [
    "The tree above on the left is a valid tree based on the primitive set we defined.\n",
    "The tree on the right is invalid because XOR is given a float not equal to 1 or 0 instead of a Boolean value.\n",
    "\n",
    "We have to be careful to not define primitives and terminals our trees cannot produce. This will lead to errors when we evolve our population."
   ]
  },
  {
   "cell_type": "markdown",
   "metadata": {},
   "source": [
    "## Ephemeral Constants"
   ]
  },
  {
   "cell_type": "markdown",
   "metadata": {},
   "source": [
    "Ephermeral constants are terminals generated by a function instead of pre-defined values."
   ]
  },
  {
   "cell_type": "code",
   "execution_count": null,
   "metadata": {},
   "outputs": [],
   "source": [
    "pset.addEphemeralConstant(lambda: random.randint(-10, 10), int)"
   ]
  },
  {
   "cell_type": "markdown",
   "metadata": {},
   "source": [
    "## Bloat Control"
   ]
  },
  {
   "cell_type": "markdown",
   "metadata": {},
   "source": [
    "The last thing we will cover is limiting tree size and bloat control. DEAP trees can only have a maximum depth of 91 due to limitations in Python's parser. There are also many examples of GP problems where individuals bloat over time and increase in size."
   ]
  },
  {
   "cell_type": "code",
   "execution_count": null,
   "metadata": {},
   "outputs": [],
   "source": [
    "toolbox.decorate(\"mate\", gp.staticLimit(key=operator.attrgetter(\"height\"), max_value=17))\n",
    "toolbox.decorate(\"mutate\", gp.staticLimit(key=operator.attrgetter(\"height\"), max_value=17))"
   ]
  },
  {
   "cell_type": "markdown",
   "metadata": {},
   "source": [
    "To prevent this, we can use static limits like the code shown above, set an objective to minimize tree size, and modify our evaluation function to give bloated trees worse fitness values."
   ]
  }
 ],
 "metadata": {
  "kernelspec": {
   "display_name": "Python 3",
   "language": "python",
   "name": "python3"
  },
  "language_info": {
   "codemirror_mode": {
    "name": "ipython",
    "version": 3
   },
   "file_extension": ".py",
   "mimetype": "text/x-python",
   "name": "python",
   "nbconvert_exporter": "python",
   "pygments_lexer": "ipython3",
   "version": "3.7.3"
  }
 },
 "nbformat": 4,
 "nbformat_minor": 2
}
