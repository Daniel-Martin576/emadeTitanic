{
 "cells": [
  {
   "cell_type": "code",
   "execution_count": 45,
   "metadata": {},
   "outputs": [
    {
     "name": "stdout",
     "output_type": "stream",
     "text": [
      "Populating the interactive namespace from numpy and matplotlib\n"
     ]
    }
   ],
   "source": [
    "%pylab inline\n",
    "import pandas as pd\n",
    "import numpy as np\n",
    "import seaborn as sns\n",
    "\n",
    "from sklearn.model_selection import train_test_split\n",
    "from sklearn import preprocessing\n",
    "\n",
    "from deap import algorithms\n",
    "from deap import base\n",
    "from deap import creator\n",
    "from deap import tools\n",
    "from deap import gp\n",
    "\n",
    "from sklearn.preprocessing import StandardScaler"
   ]
  },
  {
   "cell_type": "code",
   "execution_count": 11,
   "metadata": {},
   "outputs": [],
   "source": [
    "# # data visualization and exploring\n",
    "# train_data_raw.isnull().sum()\n",
    "# # sns.heatmap(train_data_raw.isnull(), cbar = False)\n",
    "\n",
    "# # groups sex and pclass together then replaces the Age NA value with the median in their corresponding sex and pclass group\n",
    "# grp = train_data_raw.groupby(['Sex', 'Pclass'])\n",
    "# # grp.Age.apply(lambda x: x.fillna(x.median()))\n",
    "# for name, group in grp:\n",
    "#     group.Age.fillna(group.Age.median(), inplace=True)\n",
    "# # fill the NA values with the medians in grp\n",
    "# train_data_raw.Age.fillna(grp.Age.median, inplace = True)\n",
    "\n",
    "# # # check that all ages slots have been filled\n",
    "# # sns.heatmap(train_data_raw.isnull(), cbar = False)\n",
    "# # print(train_data_raw.Age.isnull().any())"
   ]
  },
  {
   "cell_type": "code",
   "execution_count": 12,
   "metadata": {},
   "outputs": [],
   "source": [
    "def clean_format_code(dataset):\n",
    "    # groups sex and pclass together then replaces the Age NA value with the median in their corresponding sex and pclass group\n",
    "    grp = dataset.groupby(['Sex', 'Pclass'])\n",
    "    grp.Age.apply(lambda x: x.fillna(x.median()))\n",
    "    # fill the NA values with the medians in grp)\n",
    "    dataset.Age.fillna(dataset.Age.median(), inplace = True)\n",
    "    \n",
    "    dataset.drop(columns=['Name', 'Ticket', 'Cabin'], inplace=True)\n",
    "    dataset.set_index(keys=['PassengerId'], drop=True, inplace=True)\n",
    "\n",
    "    dataset_nan_map = {'Fare': dataset['Fare'].mean(), 'Embarked': dataset['Embarked'].mode()[0]}\n",
    "\n",
    "    dataset.fillna(value=dataset_nan_map, inplace=True)\n",
    "    \n",
    "    columns_map = {'Sex': {'male': 1, 'female': 5}, 'Pclass': {1 : 'a', 2 : 'b', 3 : 'c'}}\n",
    "    dataset.replace(columns_map, inplace=True)\n",
    "\n",
    "    remap = {'Pclass' : {'a': 3, 'b' : 2, 'c' : 1}}\n",
    "    dataset.replace(remap, inplace=True)\n",
    "\n",
    "    dataset['SexPclass'] = dataset['Sex'] * dataset['Pclass']\n",
    "\n",
    "    dataset.drop(columns=['Sex', 'Pclass'], inplace=True)\n",
    "    \n",
    "    # vectorizing Embarked\n",
    "    dataset = pd.get_dummies(dataset, prefix=['Embarked'])\n",
    "\n",
    "    scaler = StandardScaler().fit(dataset)\n",
    "    rescaledX = scaler.transform(dataset)\n",
    "    \n",
    "    return dataset"
   ]
  },
  {
   "cell_type": "code",
   "execution_count": 13,
   "metadata": {},
   "outputs": [
    {
     "name": "stdout",
     "output_type": "stream",
     "text": [
      "             Survived   Age  SibSp  Parch     Fare  SexPclass  Embarked_C  \\\n",
      "PassengerId                                                                 \n",
      "1                   0  22.0      1      0   7.2500          1           0   \n",
      "2                   1  38.0      1      0  71.2833         15           1   \n",
      "3                   1  26.0      0      0   7.9250          5           0   \n",
      "4                   1  35.0      1      0  53.1000         15           0   \n",
      "5                   0  35.0      0      0   8.0500          1           0   \n",
      "\n",
      "             Embarked_Q  Embarked_S  \n",
      "PassengerId                          \n",
      "1                     0           1  \n",
      "2                     0           0  \n",
      "3                     0           1  \n",
      "4                     0           1  \n",
      "5                     0           1  \n",
      "              Age  SibSp  Parch     Fare  SexPclass  Embarked_C  Embarked_Q  \\\n",
      "PassengerId                                                                   \n",
      "892          34.5      0      0   7.8292          1           0           1   \n",
      "893          47.0      1      0   7.0000          5           0           0   \n",
      "894          62.0      0      0   9.6875          2           0           1   \n",
      "895          27.0      0      0   8.6625          1           0           0   \n",
      "896          22.0      1      1  12.2875          5           0           0   \n",
      "\n",
      "             Embarked_S  \n",
      "PassengerId              \n",
      "892                   0  \n",
      "893                   1  \n",
      "894                   0  \n",
      "895                   1  \n",
      "896                   1  \n"
     ]
    }
   ],
   "source": [
    "train_data_raw = pd.read_csv('train.csv')\n",
    "test_data_raw = pd.read_csv('test.csv')\n",
    "train_data = clean_format_code(train_data_raw)\n",
    "test_data = clean_format_code(test_data_raw)\n",
    "# pd.get_dummies(train_data, prefix=['Embarked'])\n",
    "print(train_data.head())\n",
    "print(test_data.head())\n"
   ]
  },
  {
   "cell_type": "code",
   "execution_count": 14,
   "metadata": {
    "scrolled": true
   },
   "outputs": [
    {
     "name": "stdout",
     "output_type": "stream",
     "text": [
      "              Age  SibSp  Parch    Fare  SexPclass  Embarked_C  Embarked_Q  \\\n",
      "PassengerId                                                                  \n",
      "464          48.0      0      0  13.000          2           0           0   \n",
      "160          28.0      8      2  69.550          1           0           0   \n",
      "48           28.0      0      0   7.750          5           0           1   \n",
      "403          21.0      1      0   9.825          5           0           0   \n",
      "619           4.0      2      1  39.000         10           0           0   \n",
      "\n",
      "             Embarked_S  \n",
      "PassengerId              \n",
      "464                   1  \n",
      "160                   1  \n",
      "48                    0  \n",
      "403                   1  \n",
      "619                   1  \n",
      "PassengerId\n",
      "464    0\n",
      "160    0\n",
      "48     1\n",
      "403    0\n",
      "619    1\n",
      "Name: Survived, dtype: int64\n",
      "              Age  SibSp  Parch     Fare  SexPclass  Embarked_C  Embarked_Q  \\\n",
      "PassengerId                                                                   \n",
      "892          34.5      0      0   7.8292          1           0           1   \n",
      "893          47.0      1      0   7.0000          5           0           0   \n",
      "894          62.0      0      0   9.6875          2           0           1   \n",
      "895          27.0      0      0   8.6625          1           0           0   \n",
      "896          22.0      1      1  12.2875          5           0           0   \n",
      "\n",
      "             Embarked_S  \n",
      "PassengerId              \n",
      "892                   0  \n",
      "893                   1  \n",
      "894                   0  \n",
      "895                   1  \n",
      "896                   1  \n"
     ]
    }
   ],
   "source": [
    "train_data_raw = pd.read_csv('train.csv')\n",
    "test_data_raw = pd.read_csv('test.csv')\n",
    "train_data = clean_format_code(train_data_raw)\n",
    "test_data = clean_format_code(test_data_raw)\n",
    "\n",
    "# mm_scaler = preprocessing.MinMaxScaler()\n",
    "# X_train_minmax = mm_scaler.fit_transform(X_train)\n",
    "# mm_scaler.transform(X_test)\n",
    "\n",
    "\n",
    "# train_data = preprocessing.normalize(train_data, norm='l2')\n",
    "\n",
    "X_train = train_data.loc[:, train_data.columns != 'Survived']\n",
    "y_train = train_data.loc[:, 'Survived']\n",
    "\n",
    "X_train, X_test, y_train, y_test = train_test_split(X_train, y_train, test_size=0.33, random_state=10)\n",
    "\n",
    "print(X_train.head())\n",
    "print(y_train.head())\n",
    "print(test_data.head())\n",
    "# sns.heatmap(train_data.isnull(), cbar = False)\n",
    "# print(train_data.Age.isnull().any())\n",
    "# sns.heatmap(test_data.isnull(), cbar = False)\n",
    "# print(test_data.Age.isnull().any())"
   ]
  },
  {
   "cell_type": "code",
   "execution_count": 15,
   "metadata": {},
   "outputs": [],
   "source": [
    "# train_data.columns[train_data.isna().any()].tolist()\n",
    "# train_data[train_data['Embarked'].isna() == True]\n",
    "#train_data['Embarked']\n",
    "#test_data.columns[test_data.isna().any()].tolist()"
   ]
  },
  {
   "cell_type": "code",
   "execution_count": 26,
   "metadata": {},
   "outputs": [
    {
     "name": "stderr",
     "output_type": "stream",
     "text": [
      "C:\\Users\\bomna\\Anaconda3\\envs\\aadenv\\lib\\site-packages\\sklearn\\neural_network\\multilayer_perceptron.py:566: ConvergenceWarning: Stochastic Optimizer: Maximum iterations (200) reached and the optimization hasn't converged yet.\n",
      "  % self.max_iter, ConvergenceWarning)\n"
     ]
    },
    {
     "name": "stdout",
     "output_type": "stream",
     "text": [
      "0.8203389830508474\n",
      "0.8271186440677966\n",
      "0.8\n",
      "0.8033898305084746\n",
      "0.7627118644067796\n"
     ]
    },
    {
     "data": {
      "image/png": "[encoded data removed]",
      "text/plain": [
       "<Figure size 432x288 with 1 Axes>"
      ]
     },
     "metadata": {
      "needs_background": "light"
     },
     "output_type": "display_data"
    }
   ],
   "source": [
    "# for testing the 5 algos at once\n",
    "xlist = []\n",
    "ylist = []\n",
    "NN_clf = neural_network.MLPClassifier()\n",
    "NN_clf.fit(X_train.values, y_train.values)\n",
    "print(NN_clf.score(X_test.values, y_test.values))\n",
    "y_pred = NN_clf.predict(X_test.values)\n",
    "y_truth = y_test.values\n",
    "tn, fp, fn, tp = confusion_matrix(y_truth, y_pred).ravel()\n",
    "xlist.append(fp/(fp + tp))\n",
    "ylist.append(fn/(fn + tn))\n",
    "svm_clf = svm.SVC(kernel='linear')\n",
    "svm_clf.fit(X_train.values, y_train.values)\n",
    "print(svm_clf.score(X_test.values, y_test.values))\n",
    "y_pred = svm_clf.predict(X_test.values)\n",
    "y_truth = y_test.values\n",
    "tn, fp, fn, tp = confusion_matrix(y_truth, y_pred).ravel()\n",
    "xlist.append(fp/(fp + tp))\n",
    "ylist.append(fn/(fn + tn))\n",
    "BYR = sgd(max_iter=800, penalty = 'l1')\n",
    "BYR.fit(X_train.values, y_train.values)\n",
    "print(BYR.score(X_test.values, y_test.values))\n",
    "y_pred = BYR.predict(X_test.values)\n",
    "y_truth = y_test.values\n",
    "tn, fp, fn, tp = confusion_matrix(y_truth, y_pred).ravel()\n",
    "xlist.append(fp/(fp + tp))\n",
    "ylist.append(fn/(fn + tn))\n",
    "RF_clf = RandomForestClassifier(n_estimators = 200, random_state = 100)\n",
    "RF_clf.fit(X_train.values, y_train.values)\n",
    "print(RF_clf.score(X_test.values, y_test.values))\n",
    "y_pred = RF_clf.predict(X_test.values)\n",
    "y_truth = y_test.values\n",
    "tn, fp, fn, tp = confusion_matrix(y_truth, y_pred).ravel()\n",
    "xlist.append(fp/(fp + tp))\n",
    "ylist.append(fn/(fn + tn))\n",
    "Gaussian_clf = GaussianNB()\n",
    "Gaussian_clf.fit(X_train.values, y_train.values)\n",
    "print(Gaussian_clf.score(X_test.values, y_test.values))\n",
    "y_pred = Gaussian_clf.predict(X_test.values)\n",
    "y_truth = y_test.values\n",
    "tn, fp, fn, tp = confusion_matrix(y_truth, y_pred).ravel()\n",
    "xlist.append(fp/(fp + tp))\n",
    "ylist.append(fn/(fn + tn))\n",
    "plt.scatter(xlist, ylist)\n",
    "plt.xlabel(\"fp/(fp+tp) false postitive rate\")\n",
    "plt.ylabel(\"fn/(fn+tn) false negative rate\")\n",
    "plt.title(\"Pareto Front\")\n",
    "plt.show()"
   ]
  },
  {
   "cell_type": "code",
   "execution_count": 27,
   "metadata": {},
   "outputs": [],
   "source": [
    "xlist = []\n",
    "ylist = []"
   ]
  },
  {
   "cell_type": "code",
   "execution_count": 28,
   "metadata": {},
   "outputs": [],
   "source": [
    "# tree_clf = tree.DecisionTreeClassifier()\n",
    "# tree_clf.fit(X_train.values, y_train.values)\n",
    "# print(tree_clf.score(X_test.values, y_test.values))\n",
    "# y_pred = tree_clf.predict(X_test.values)\n",
    "# y_truth = y_test.values\n",
    "# tn, fp, fn, tp = confusion_matrix(y_truth, y_pred).ravel()\n",
    "# xlist.append(fp/(fp + tp))\n",
    "# ylist.append(fn/(fn + tn))"
   ]
  },
  {
   "cell_type": "code",
   "execution_count": 29,
   "metadata": {},
   "outputs": [],
   "source": [
    "# knn_clf = neighbors.KNeighborsClassifier()\n",
    "# knn_clf.fit(X_train.values, y_train.values)\n",
    "# print(knn_clf.score(X_test.values, y_test.values))\n",
    "# y_pred = knn_clf.predict(X_test.values)\n",
    "# y_truth = y_test.values\n",
    "# tn, fp, fn, tp = confusion_matrix(y_truth, y_pred).ravel()\n",
    "# xlist.append(fp/(fp + tp))\n",
    "# ylist.append(fn/(fn + tn))"
   ]
  },
  {
   "cell_type": "code",
   "execution_count": 30,
   "metadata": {},
   "outputs": [
    {
     "name": "stdout",
     "output_type": "stream",
     "text": [
      "0.8169491525423729\n"
     ]
    },
    {
     "name": "stderr",
     "output_type": "stream",
     "text": [
      "C:\\Users\\bomna\\Anaconda3\\envs\\aadenv\\lib\\site-packages\\sklearn\\neural_network\\multilayer_perceptron.py:566: ConvergenceWarning: Stochastic Optimizer: Maximum iterations (200) reached and the optimization hasn't converged yet.\n",
      "  % self.max_iter, ConvergenceWarning)\n"
     ]
    }
   ],
   "source": [
    "NN_clf = neural_network.MLPClassifier()\n",
    "NN_clf.fit(X_train.values, y_train.values)\n",
    "print(NN_clf.score(X_test.values, y_test.values))\n",
    "y_pred = NN_clf.predict(X_test.values)\n",
    "y_truth = y_test.values\n",
    "tn, fp, fn, tp = confusion_matrix(y_truth, y_pred).ravel()\n",
    "xlist.append(fp/(fp + tp))\n",
    "ylist.append(fn/(fn + tn))"
   ]
  },
  {
   "cell_type": "code",
   "execution_count": 31,
   "metadata": {},
   "outputs": [
    {
     "name": "stdout",
     "output_type": "stream",
     "text": [
      "0.8271186440677966\n"
     ]
    }
   ],
   "source": [
    "svm_clf = svm.SVC(kernel='linear')\n",
    "svm_clf.fit(X_train.values, y_train.values)\n",
    "print(svm_clf.score(X_test.values, y_test.values))\n",
    "y_pred = svm_clf.predict(X_test.values)\n",
    "y_truth = y_test.values\n",
    "tn, fp, fn, tp = confusion_matrix(y_truth, y_pred).ravel()\n",
    "xlist.append(fp/(fp + tp))\n",
    "ylist.append(fn/(fn + tn))"
   ]
  },
  {
   "cell_type": "code",
   "execution_count": 32,
   "metadata": {},
   "outputs": [
    {
     "name": "stdout",
     "output_type": "stream",
     "text": [
      "0.8372881355932204\n"
     ]
    }
   ],
   "source": [
    "BYR = sgd(max_iter=800, penalty = 'l1')\n",
    "BYR.fit(X_train.values, y_train.values)\n",
    "print(BYR.score(X_test.values, y_test.values))\n",
    "y_pred = BYR.predict(X_test.values)\n",
    "y_truth = y_test.values\n",
    "tn, fp, fn, tp = confusion_matrix(y_truth, y_pred).ravel()\n",
    "xlist.append(fp/(fp + tp))\n",
    "ylist.append(fn/(fn + tn))"
   ]
  },
  {
   "cell_type": "code",
   "execution_count": 33,
   "metadata": {},
   "outputs": [],
   "source": [
    "# nusvc = svm.NuSVC(kernel = 'rbf', gamma = 'scale')\n",
    "# nusvc.fit(X_train.values, y_train.values)\n",
    "# print(nusvc.score(X_test.values, y_test.values))\n",
    "# y_pred = nusvc.predict(X_test.values)\n",
    "# y_truth = y_test.values\n",
    "# tn, fp, fn, tp = confusion_matrix(y_truth, y_pred).ravel()\n",
    "# xlist.append(fp/(fp + tp))\n",
    "# ylist.append(fn/(fn + tn))"
   ]
  },
  {
   "cell_type": "code",
   "execution_count": 34,
   "metadata": {},
   "outputs": [],
   "source": [
    "# lsvc = svm.LinearSVC(penalty = 'l1', dual = False)\n",
    "# lsvc.fit(X_train.values, y_train.values)\n",
    "# print(lsvc.score(X_test.values, y_test.values))\n",
    "# y_pred = lsvc.predict(X_test.values)\n",
    "# y_truth = y_test.values\n",
    "# tn, fp, fn, tp = confusion_matrix(y_truth, y_pred).ravel()\n",
    "# xlist.append(fp/(fp + tp))\n",
    "# ylist.append(fn/(fn + tn))"
   ]
  },
  {
   "cell_type": "code",
   "execution_count": 35,
   "metadata": {},
   "outputs": [
    {
     "name": "stdout",
     "output_type": "stream",
     "text": [
      "0.8033898305084746\n"
     ]
    }
   ],
   "source": [
    "RF_clf = RandomForestClassifier(n_estimators = 200, random_state = 100)\n",
    "RF_clf.fit(X_train.values, y_train.values)\n",
    "print(RF_clf.score(X_test.values, y_test.values))\n",
    "y_pred = RF_clf.predict(X_test.values)\n",
    "y_truth = y_test.values\n",
    "tn, fp, fn, tp = confusion_matrix(y_truth, y_pred).ravel()\n",
    "xlist.append(fp/(fp + tp))\n",
    "ylist.append(fn/(fn + tn))"
   ]
  },
  {
   "cell_type": "code",
   "execution_count": 36,
   "metadata": {},
   "outputs": [
    {
     "name": "stdout",
     "output_type": "stream",
     "text": [
      "0.7627118644067796\n"
     ]
    }
   ],
   "source": [
    "Gaussian_clf = GaussianNB()\n",
    "Gaussian_clf.fit(X_train.values, y_train.values)\n",
    "print(Gaussian_clf.score(X_test.values, y_test.values))\n",
    "y_pred = Gaussian_clf.predict(X_test.values)\n",
    "y_truth = y_test.values\n",
    "tn, fp, fn, tp = confusion_matrix(y_truth, y_pred).ravel()\n",
    "xlist.append(fp/(fp + tp))\n",
    "ylist.append(fn/(fn + tn))"
   ]
  },
  {
   "cell_type": "code",
   "execution_count": 37,
   "metadata": {},
   "outputs": [
    {
     "data": {
      "image/png": "[encoded data removed]",
      "text/plain": [
       "<Figure size 432x288 with 1 Axes>"
      ]
     },
     "metadata": {
      "needs_background": "light"
     },
     "output_type": "display_data"
    }
   ],
   "source": [
    "plt.scatter(xlist, ylist)\n",
    "plt.xlabel(\"fp/(fp+tp) false postitive rate\")\n",
    "plt.ylabel(\"fn/(fn+tn) false negative rate\")\n",
    "plt.title(\"Pareto Front\")\n",
    "plt.show()"
   ]
  },
  {
   "cell_type": "code",
   "execution_count": 38,
   "metadata": {},
   "outputs": [
    {
     "name": "stdout",
     "output_type": "stream",
     "text": [
      "[(0.22826086956521738, 0.1625615763546798), (0.14666666666666667, 0.18181818181818182), (0.13157894736842105, 0.1735159817351598), (0.2830188679245283, 0.14814814814814814), (0.33, 0.18974358974358974)]\n",
      "5\n"
     ]
    }
   ],
   "source": [
    "print([(xlist[i],ylist[i]) for i in range(len(xlist))])\n",
    "print(len(xlist))"
   ]
  },
  {
   "cell_type": "code",
   "execution_count": 39,
   "metadata": {},
   "outputs": [
    {
     "name": "stdout",
     "output_type": "stream",
     "text": [
      "Confusion Matrix\n",
      "[[158  33]\n",
      " [ 37  67]]\n",
      "\n",
      "True Negatives 158\n",
      "False Positives 33\n",
      "False Negatives 37\n",
      "True Positives 67\n"
     ]
    }
   ],
   "source": [
    "tn, fp, fn, tp = confusion_matrix(y_truth, y_pred).ravel()\n",
    "print(\"Confusion Matrix\")\n",
    "print(confusion_matrix(y_truth, y_pred, labels=[0, 1]))\n",
    "print(\"\")\n",
    "print(\"True Negatives\", tn)\n",
    "print(\"False Positives\", fp)\n",
    "print(\"False Negatives\", fn)\n",
    "print(\"True Positives\", tp)"
   ]
  },
  {
   "cell_type": "code",
   "execution_count": 40,
   "metadata": {},
   "outputs": [
    {
     "name": "stdout",
     "output_type": "stream",
     "text": [
      "Confusion matrix, without normalization\n",
      "[[158  33]\n",
      " [ 37  67]]\n"
     ]
    },
    {
     "data": {
      "image/png": "[encoded data removed]",
      "text/plain": [
       "<Figure size 432x288 with 2 Axes>"
      ]
     },
     "metadata": {
      "needs_background": "light"
     },
     "output_type": "display_data"
    }
   ],
   "source": [
    "import itertools\n",
    "import matplotlib.pyplot as plt\n",
    "\n",
    "def plot_confusion_matrix(cm, classes,\n",
    "                          normalize=False,\n",
    "                          title='Confusion matrix',\n",
    "                          cmap=plt.cm.Blues):\n",
    "    \"\"\"\n",
    "    This function prints and plots the confusion matrix.\n",
    "    Normalization can be applied by setting `normalize=True`.\n",
    "    \"\"\"\n",
    "    if normalize:\n",
    "        cm = cm.astype('float') / cm.sum(axis=1)[:, np.newaxis]\n",
    "        print(\"Normalized confusion matrix\")\n",
    "    else:\n",
    "        print('Confusion matrix, without normalization')\n",
    "\n",
    "    print(cm)\n",
    "\n",
    "    plt.imshow(cm, interpolation='nearest', cmap=cmap)\n",
    "    plt.title(title)\n",
    "    plt.colorbar()\n",
    "    tick_marks = np.arange(len(classes))\n",
    "    plt.xticks(tick_marks, classes, rotation=45)\n",
    "    plt.yticks(tick_marks, classes)\n",
    "\n",
    "    fmt = '.2f' if normalize else 'd'\n",
    "    thresh = cm.max() / 2.\n",
    "    for i, j in itertools.product(range(cm.shape[0]), range(cm.shape[1])):\n",
    "        plt.text(j, i, format(cm[i, j], fmt),\n",
    "                 horizontalalignment=\"center\",\n",
    "                 color=\"white\" if cm[i, j] > thresh else \"black\")\n",
    "\n",
    "    plt.ylabel('True label')\n",
    "    plt.xlabel('Predicted label')\n",
    "    plt.tight_layout()\n",
    "\n",
    "\n",
    "# Compute confusion matrix\n",
    "cnf_matrix = confusion_matrix(y_truth, y_pred)\n",
    "class_names=['0', '1']\n",
    "np.set_printoptions(precision=2)\n",
    "\n",
    "# Plot non-normalized confusion matrix\n",
    "plt.figure()\n",
    "plot_confusion_matrix(cnf_matrix, classes=class_names,\n",
    "                      title='Confusion matrix, without normalization')\n",
    "\n",
    "plt.show()"
   ]
  },
  {
   "cell_type": "code",
   "execution_count": 41,
   "metadata": {},
   "outputs": [],
   "source": [
    "predictions = svm_clf.predict(test_data.values)"
   ]
  },
  {
   "cell_type": "code",
   "execution_count": 42,
   "metadata": {},
   "outputs": [
    {
     "data": {
      "text/plain": [
       "numpy.ndarray"
      ]
     },
     "execution_count": 42,
     "metadata": {},
     "output_type": "execute_result"
    }
   ],
   "source": [
    "type(predictions)"
   ]
  },
  {
   "cell_type": "code",
   "execution_count": 43,
   "metadata": {},
   "outputs": [
    {
     "data": {
      "text/plain": [
       "pandas.core.frame.DataFrame"
      ]
     },
     "execution_count": 43,
     "metadata": {},
     "output_type": "execute_result"
    }
   ],
   "source": [
    "pred_df = pd.DataFrame(predictions, index=test_data.index, columns=['Survived'])\n",
    "type(pred_df)"
   ]
  },
  {
   "cell_type": "code",
   "execution_count": 44,
   "metadata": {},
   "outputs": [],
   "source": [
    "pred_df.to_csv('predictions.csv', header=True, sep=',')"
   ]
  },
  {
   "cell_type": "code",
   "execution_count": null,
   "metadata": {},
   "outputs": [],
   "source": []
  },
  {
   "cell_type": "code",
   "execution_count": null,
   "metadata": {},
   "outputs": [],
   "source": []
  }
 ],
 "metadata": {
  "kernelspec": {
   "display_name": "Python 3",
   "language": "python",
   "name": "python3"
  },
  "language_info": {
   "codemirror_mode": {
    "name": "ipython",
    "version": 3
   },
   "file_extension": ".py",
   "mimetype": "text/x-python",
   "name": "python",
   "nbconvert_exporter": "python",
   "pygments_lexer": "ipython3",
   "version": "3.6.9"
  }
 },
 "nbformat": 4,
 "nbformat_minor": 2
}
